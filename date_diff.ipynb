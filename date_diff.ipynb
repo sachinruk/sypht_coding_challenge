{
 "cells": [
  {
   "cell_type": "code",
   "execution_count": 8,
   "metadata": {},
   "outputs": [],
   "source": [
    "month = [31, 28, 31, 30, 31, 30, 31, 31, 30, 31, 30, 31]\n",
    "month_leap = [31, 28, 31, 30, 31, 30, 31, 31, 30, 31, 30, 31]\n",
    "\n",
    "def date2num(date):\n",
    "    d, m, y = (int(d) for d in date.split('/'))\n",
    "    # calculate number of days in year:\n",
    "    year_days = 365 * y\n",
    "    # number of leap years till year (but not including y)\n",
    "    leap_years = (y - 1) // 4 + 1 # + 1 because year 0 is a leap year\n",
    "    year_days += leap_years\n",
    "    \n",
    "    this_leap_year = y % 4 == 0\n",
    "    \n",
    "    if this_leap_year:\n",
    "        days = sum(month_leap[:m-1]) + d\n",
    "    else:\n",
    "        days = sum(month[:m-1]) + d\n",
    "        \n",
    "    return year_days + days"
   ]
  },
  {
   "cell_type": "code",
   "execution_count": 13,
   "metadata": {},
   "outputs": [],
   "source": [
    "def date_diff(date1, date2):\n",
    "    diff = abs(date2num(date2) - date2num(date1)) - 1\n",
    "    return diff"
   ]
  },
  {
   "cell_type": "code",
   "execution_count": 15,
   "metadata": {},
   "outputs": [
    {
     "name": "stdout",
     "output_type": "stream",
     "text": [
      "19\n",
      "173\n",
      "1979\n"
     ]
    }
   ],
   "source": [
    "print(date_diff('02/06/1983', '22/06/1983'))\n",
    "print(date_diff('04/07/1984', '25/12/1984'))\n",
    "print(date_diff('03/01/1989', '03/08/1983'))"
   ]
  },
  {
   "cell_type": "code",
   "execution_count": null,
   "metadata": {},
   "outputs": [],
   "source": []
  }
 ],
 "metadata": {
  "kernelspec": {
   "display_name": "Python 3",
   "language": "python",
   "name": "python3"
  },
  "language_info": {
   "codemirror_mode": {
    "name": "ipython",
    "version": 3
   },
   "file_extension": ".py",
   "mimetype": "text/x-python",
   "name": "python",
   "nbconvert_exporter": "python",
   "pygments_lexer": "ipython3",
   "version": "3.7.4"
  }
 },
 "nbformat": 4,
 "nbformat_minor": 2
}
